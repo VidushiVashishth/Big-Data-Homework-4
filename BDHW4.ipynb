{
  "nbformat": 4,
  "nbformat_minor": 0,
  "metadata": {
    "colab": {
      "name": "BDHW4.ipynb",
      "provenance": [],
      "collapsed_sections": []
    },
    "kernelspec": {
      "name": "python3",
      "display_name": "Python 3"
    },
    "language_info": {
      "name": "python"
    }
  },
  "cells": [
    {
      "cell_type": "code",
      "metadata": {
        "id": "mPudrTWg5u5X"
      },
      "source": [
        "#Libraries used\n",
        "import numpy as np\n",
        "import pandas as pd\n",
        "import matplotlib.pyplot as plt\n",
        "import seaborn as sns\n",
        "from surprise import SVD\n",
        "from surprise import Dataset\n",
        "from surprise import accuracy\n",
        "from surprise.model_selection import train_test_split\n",
        "from time import time\n",
        "import datetime"
      ],
      "execution_count": 24,
      "outputs": []
    },
    {
      "cell_type": "code",
      "metadata": {
        "id": "PSPeOIBe56Op"
      },
      "source": [
        "#Reading the movie recommendation data\n",
        "ratingsData = pd.io.parsers.read_csv('ratings.dat', \n",
        "    names=['user_id', 'movie_id', 'rating', 'time'],\n",
        "   engine='python', delimiter='::')\n",
        "movieData = pd.io.parsers.read_csv('movies.dat',\n",
        "    names=['movie_id', 'title', 'genre'],\n",
        "    engine='python', delimiter='::')"
      ],
      "execution_count": 7,
      "outputs": []
    },
    {
      "cell_type": "markdown",
      "metadata": {
        "id": "__89I-dNdgL8"
      },
      "source": [
        "Dataset statistics"
      ]
    },
    {
      "cell_type": "code",
      "metadata": {
        "colab": {
          "base_uri": "https://localhost:8080/",
          "height": 204
        },
        "id": "6l8CG3U46R72",
        "outputId": "b2f92c74-d352-4c94-a125-a4fa96e90baa"
      },
      "source": [
        "#First 5 rows of the ratings dataset\n",
        "ratingsData.head()"
      ],
      "execution_count": 9,
      "outputs": [
        {
          "output_type": "execute_result",
          "data": {
            "text/html": [
              "<div>\n",
              "<style scoped>\n",
              "    .dataframe tbody tr th:only-of-type {\n",
              "        vertical-align: middle;\n",
              "    }\n",
              "\n",
              "    .dataframe tbody tr th {\n",
              "        vertical-align: top;\n",
              "    }\n",
              "\n",
              "    .dataframe thead th {\n",
              "        text-align: right;\n",
              "    }\n",
              "</style>\n",
              "<table border=\"1\" class=\"dataframe\">\n",
              "  <thead>\n",
              "    <tr style=\"text-align: right;\">\n",
              "      <th></th>\n",
              "      <th>user_id</th>\n",
              "      <th>movie_id</th>\n",
              "      <th>rating</th>\n",
              "      <th>time</th>\n",
              "    </tr>\n",
              "  </thead>\n",
              "  <tbody>\n",
              "    <tr>\n",
              "      <th>0</th>\n",
              "      <td>1</td>\n",
              "      <td>1193</td>\n",
              "      <td>5</td>\n",
              "      <td>978300760</td>\n",
              "    </tr>\n",
              "    <tr>\n",
              "      <th>1</th>\n",
              "      <td>1</td>\n",
              "      <td>661</td>\n",
              "      <td>3</td>\n",
              "      <td>978302109</td>\n",
              "    </tr>\n",
              "    <tr>\n",
              "      <th>2</th>\n",
              "      <td>1</td>\n",
              "      <td>914</td>\n",
              "      <td>3</td>\n",
              "      <td>978301968</td>\n",
              "    </tr>\n",
              "    <tr>\n",
              "      <th>3</th>\n",
              "      <td>1</td>\n",
              "      <td>3408</td>\n",
              "      <td>4</td>\n",
              "      <td>978300275</td>\n",
              "    </tr>\n",
              "    <tr>\n",
              "      <th>4</th>\n",
              "      <td>1</td>\n",
              "      <td>2355</td>\n",
              "      <td>5</td>\n",
              "      <td>978824291</td>\n",
              "    </tr>\n",
              "  </tbody>\n",
              "</table>\n",
              "</div>"
            ],
            "text/plain": [
              "   user_id  movie_id  rating       time\n",
              "0        1      1193       5  978300760\n",
              "1        1       661       3  978302109\n",
              "2        1       914       3  978301968\n",
              "3        1      3408       4  978300275\n",
              "4        1      2355       5  978824291"
            ]
          },
          "metadata": {},
          "execution_count": 9
        }
      ]
    },
    {
      "cell_type": "code",
      "metadata": {
        "colab": {
          "base_uri": "https://localhost:8080/",
          "height": 297
        },
        "id": "xFNN_Dxm6rsi",
        "outputId": "976fb196-b954-418b-b475-45d8d57da4d3"
      },
      "source": [
        "#Basic stats including count, range, mean, standard deviation and distribution of the ratings dataset\n",
        "ratingsData.describe()"
      ],
      "execution_count": 10,
      "outputs": [
        {
          "output_type": "execute_result",
          "data": {
            "text/html": [
              "<div>\n",
              "<style scoped>\n",
              "    .dataframe tbody tr th:only-of-type {\n",
              "        vertical-align: middle;\n",
              "    }\n",
              "\n",
              "    .dataframe tbody tr th {\n",
              "        vertical-align: top;\n",
              "    }\n",
              "\n",
              "    .dataframe thead th {\n",
              "        text-align: right;\n",
              "    }\n",
              "</style>\n",
              "<table border=\"1\" class=\"dataframe\">\n",
              "  <thead>\n",
              "    <tr style=\"text-align: right;\">\n",
              "      <th></th>\n",
              "      <th>user_id</th>\n",
              "      <th>movie_id</th>\n",
              "      <th>rating</th>\n",
              "      <th>time</th>\n",
              "    </tr>\n",
              "  </thead>\n",
              "  <tbody>\n",
              "    <tr>\n",
              "      <th>count</th>\n",
              "      <td>1.000209e+06</td>\n",
              "      <td>1.000209e+06</td>\n",
              "      <td>1.000209e+06</td>\n",
              "      <td>1.000209e+06</td>\n",
              "    </tr>\n",
              "    <tr>\n",
              "      <th>mean</th>\n",
              "      <td>3.024512e+03</td>\n",
              "      <td>1.865540e+03</td>\n",
              "      <td>3.581564e+00</td>\n",
              "      <td>9.722437e+08</td>\n",
              "    </tr>\n",
              "    <tr>\n",
              "      <th>std</th>\n",
              "      <td>1.728413e+03</td>\n",
              "      <td>1.096041e+03</td>\n",
              "      <td>1.117102e+00</td>\n",
              "      <td>1.215256e+07</td>\n",
              "    </tr>\n",
              "    <tr>\n",
              "      <th>min</th>\n",
              "      <td>1.000000e+00</td>\n",
              "      <td>1.000000e+00</td>\n",
              "      <td>1.000000e+00</td>\n",
              "      <td>9.567039e+08</td>\n",
              "    </tr>\n",
              "    <tr>\n",
              "      <th>25%</th>\n",
              "      <td>1.506000e+03</td>\n",
              "      <td>1.030000e+03</td>\n",
              "      <td>3.000000e+00</td>\n",
              "      <td>9.653026e+08</td>\n",
              "    </tr>\n",
              "    <tr>\n",
              "      <th>50%</th>\n",
              "      <td>3.070000e+03</td>\n",
              "      <td>1.835000e+03</td>\n",
              "      <td>4.000000e+00</td>\n",
              "      <td>9.730180e+08</td>\n",
              "    </tr>\n",
              "    <tr>\n",
              "      <th>75%</th>\n",
              "      <td>4.476000e+03</td>\n",
              "      <td>2.770000e+03</td>\n",
              "      <td>4.000000e+00</td>\n",
              "      <td>9.752209e+08</td>\n",
              "    </tr>\n",
              "    <tr>\n",
              "      <th>max</th>\n",
              "      <td>6.040000e+03</td>\n",
              "      <td>3.952000e+03</td>\n",
              "      <td>5.000000e+00</td>\n",
              "      <td>1.046455e+09</td>\n",
              "    </tr>\n",
              "  </tbody>\n",
              "</table>\n",
              "</div>"
            ],
            "text/plain": [
              "            user_id      movie_id        rating          time\n",
              "count  1.000209e+06  1.000209e+06  1.000209e+06  1.000209e+06\n",
              "mean   3.024512e+03  1.865540e+03  3.581564e+00  9.722437e+08\n",
              "std    1.728413e+03  1.096041e+03  1.117102e+00  1.215256e+07\n",
              "min    1.000000e+00  1.000000e+00  1.000000e+00  9.567039e+08\n",
              "25%    1.506000e+03  1.030000e+03  3.000000e+00  9.653026e+08\n",
              "50%    3.070000e+03  1.835000e+03  4.000000e+00  9.730180e+08\n",
              "75%    4.476000e+03  2.770000e+03  4.000000e+00  9.752209e+08\n",
              "max    6.040000e+03  3.952000e+03  5.000000e+00  1.046455e+09"
            ]
          },
          "metadata": {},
          "execution_count": 10
        }
      ]
    },
    {
      "cell_type": "code",
      "metadata": {
        "colab": {
          "base_uri": "https://localhost:8080/",
          "height": 204
        },
        "id": "kP3YBZYI6j_V",
        "outputId": "b3ae3e94-f15a-4563-8645-827c10d5b08a"
      },
      "source": [
        "#First 5 rows of the movies reviewed\n",
        "movieData.head()"
      ],
      "execution_count": 8,
      "outputs": [
        {
          "output_type": "execute_result",
          "data": {
            "text/html": [
              "<div>\n",
              "<style scoped>\n",
              "    .dataframe tbody tr th:only-of-type {\n",
              "        vertical-align: middle;\n",
              "    }\n",
              "\n",
              "    .dataframe tbody tr th {\n",
              "        vertical-align: top;\n",
              "    }\n",
              "\n",
              "    .dataframe thead th {\n",
              "        text-align: right;\n",
              "    }\n",
              "</style>\n",
              "<table border=\"1\" class=\"dataframe\">\n",
              "  <thead>\n",
              "    <tr style=\"text-align: right;\">\n",
              "      <th></th>\n",
              "      <th>movie_id</th>\n",
              "      <th>title</th>\n",
              "      <th>genre</th>\n",
              "    </tr>\n",
              "  </thead>\n",
              "  <tbody>\n",
              "    <tr>\n",
              "      <th>0</th>\n",
              "      <td>1</td>\n",
              "      <td>Toy Story (1995)</td>\n",
              "      <td>Animation|Children's|Comedy</td>\n",
              "    </tr>\n",
              "    <tr>\n",
              "      <th>1</th>\n",
              "      <td>2</td>\n",
              "      <td>Jumanji (1995)</td>\n",
              "      <td>Adventure|Children's|Fantasy</td>\n",
              "    </tr>\n",
              "    <tr>\n",
              "      <th>2</th>\n",
              "      <td>3</td>\n",
              "      <td>Grumpier Old Men (1995)</td>\n",
              "      <td>Comedy|Romance</td>\n",
              "    </tr>\n",
              "    <tr>\n",
              "      <th>3</th>\n",
              "      <td>4</td>\n",
              "      <td>Waiting to Exhale (1995)</td>\n",
              "      <td>Comedy|Drama</td>\n",
              "    </tr>\n",
              "    <tr>\n",
              "      <th>4</th>\n",
              "      <td>5</td>\n",
              "      <td>Father of the Bride Part II (1995)</td>\n",
              "      <td>Comedy</td>\n",
              "    </tr>\n",
              "  </tbody>\n",
              "</table>\n",
              "</div>"
            ],
            "text/plain": [
              "   movie_id                               title                         genre\n",
              "0         1                    Toy Story (1995)   Animation|Children's|Comedy\n",
              "1         2                      Jumanji (1995)  Adventure|Children's|Fantasy\n",
              "2         3             Grumpier Old Men (1995)                Comedy|Romance\n",
              "3         4            Waiting to Exhale (1995)                  Comedy|Drama\n",
              "4         5  Father of the Bride Part II (1995)                        Comedy"
            ]
          },
          "metadata": {},
          "execution_count": 8
        }
      ]
    },
    {
      "cell_type": "code",
      "metadata": {
        "colab": {
          "base_uri": "https://localhost:8080/"
        },
        "id": "GLXI-Jcx_raf",
        "outputId": "eddcdca7-0056-41e5-b710-ccd71b3be1c9"
      },
      "source": [
        "users = ratingsData['user_id'].unique()\n",
        "print(\"Number of Users\", len(users))"
      ],
      "execution_count": 11,
      "outputs": [
        {
          "output_type": "stream",
          "name": "stdout",
          "text": [
            "Number of Users 6040\n"
          ]
        }
      ]
    },
    {
      "cell_type": "code",
      "metadata": {
        "colab": {
          "base_uri": "https://localhost:8080/"
        },
        "id": "79LANwbH_4Hi",
        "outputId": "876edaa8-6e4d-482d-8739-2b25fa8646bc"
      },
      "source": [
        "movies = ratingsData['movie_id'].unique()\n",
        "print(\"Number of Movies\", len(movies))"
      ],
      "execution_count": 12,
      "outputs": [
        {
          "output_type": "stream",
          "name": "stdout",
          "text": [
            "Number of Movies 3706\n"
          ]
        }
      ]
    },
    {
      "cell_type": "code",
      "metadata": {
        "colab": {
          "base_uri": "https://localhost:8080/"
        },
        "id": "EuKhuupFAC-p",
        "outputId": "8707d832-2716-4ed3-8885-8a428b4dfe20"
      },
      "source": [
        "ratings = ratingsData['rating'].unique()\n",
        "print(\"Rating Scale\", ratings)"
      ],
      "execution_count": 13,
      "outputs": [
        {
          "output_type": "stream",
          "name": "stdout",
          "text": [
            "Rating Scale [5 3 4 2 1]\n"
          ]
        }
      ]
    },
    {
      "cell_type": "code",
      "metadata": {
        "colab": {
          "base_uri": "https://localhost:8080/",
          "height": 409
        },
        "id": "t7vsN8gD6uTd",
        "outputId": "df3d5233-28a9-47a7-c8e0-15817b15b874"
      },
      "source": [
        "plt.figure(figsize=(10,6))\n",
        "sns.countplot(x='rating',data=ratingsData)\n",
        "plt.xlabel('Rating',fontsize=12)\n",
        "plt.ylabel('Total Users', fontsize=12)\n",
        "plt.title('Number of each rating',fontsize=15)\n",
        "plt.show()"
      ],
      "execution_count": 14,
      "outputs": [
        {
          "output_type": "display_data",
          "data": {
            "image/png": "[encoded data removed]",
            "text/plain": [
              "<Figure size 720x432 with 1 Axes>"
            ]
          },
          "metadata": {
            "needs_background": "light"
          }
        }
      ]
    },
    {
      "cell_type": "markdown",
      "metadata": {
        "id": "6QvyxY1JoGzz"
      },
      "source": [
        "Training the SVD algorithm"
      ]
    },
    {
      "cell_type": "code",
      "metadata": {
        "colab": {
          "base_uri": "https://localhost:8080/"
        },
        "id": "-XsWc53cBSev",
        "outputId": "a82536f1-aa62-4598-ee47-b84c0210b15f"
      },
      "source": [
        "data = Dataset.load_builtin('ml-1m')\n",
        "\n",
        "#randomly split the dataset into 75% train and 25% test set\n",
        "train, test = train_test_split(data, test_size=.25)\n",
        "\n",
        "# Create an object of SVD algo.\n",
        "algorithm = SVD()\n",
        "t0 = time()\n",
        "\n",
        "# Train the algorithm on the training dataset, and predict ratings for the testset\n",
        "algorithm.fit(train)\n",
        "t1 = time()\n",
        "\n",
        "print(\"Total completion time is \",t1-t0)\n",
        "predictions = algorithm.test(test)\n",
        "# Then compute RMSE\n",
        "print(\"\\n\")\n",
        "accuracy.rmse(predictions)"
      ],
      "execution_count": 42,
      "outputs": [
        {
          "output_type": "stream",
          "name": "stdout",
          "text": [
            "Total completion time is  44.73969626426697\n",
            "\n",
            "\n",
            "RMSE: 0.8783\n"
          ]
        },
        {
          "output_type": "execute_result",
          "data": {
            "text/plain": [
              "0.8782717154814735"
            ]
          },
          "metadata": {},
          "execution_count": 42
        }
      ]
    },
    {
      "cell_type": "markdown",
      "metadata": {
        "id": "Q-Gs-XYjoK2R"
      },
      "source": [
        "Extracting the top n = 20 recommendations by the trained algorithm"
      ]
    },
    {
      "cell_type": "code",
      "metadata": {
        "id": "43JOltaToC_y"
      },
      "source": [
        "##Helper function to extract top 20 recommendations\n",
        "from collections import defaultdict\n",
        "def get_top_n(predictions, n=10):\n",
        "    \"\"\"Return the top-N recommendation for each user from a set of predictions.\n",
        "    \"\"\"\n",
        "\n",
        "    # First map the predictions to each user.\n",
        "    topN = defaultdict(list)\n",
        "    for userid, iid, true_r, est, _ in predictions:\n",
        "        topN[userid].append((iid, est))\n",
        "\n",
        "    # Then sort the predictions for each user and retrieve the k highest ones.\n",
        "    for userid, user_ratings in topN.items():\n",
        "        user_ratings.sort(key=lambda x: x[1], reverse=True)\n",
        "        topN[userid] = user_ratings[:n]\n",
        "\n",
        "    return topN"
      ],
      "execution_count": 20,
      "outputs": []
    },
    {
      "cell_type": "code",
      "metadata": {
        "id": "faUSxiiRo7Yc"
      },
      "source": [
        "#Predictions made by the SVD model\n",
        "predictions = algorithm.test(test)\n",
        "top_1_recos = get_top_n(predictions, n=1)\n",
        "top_5_recos = get_top_n(predictions, n=5)"
      ],
      "execution_count": 21,
      "outputs": []
    },
    {
      "cell_type": "code",
      "metadata": {
        "colab": {
          "base_uri": "https://localhost:8080/"
        },
        "id": "FTYd3V87pyrs",
        "outputId": "58937323-2a5a-4d87-b43f-c179148e9196"
      },
      "source": [
        "#Sampling 20 users from the test dataset for analysis\n",
        "sample_test_set= test[0:20]\n",
        "sample_test_set_df=pd.DataFrame(sample_test_set, columns=['userId', 'productId','Rating'])\n",
        "print(sample_test_set_df)"
      ],
      "execution_count": 22,
      "outputs": [
        {
          "output_type": "stream",
          "name": "stdout",
          "text": [
            "   userId productId  Rating\n",
            "0     529      1610     5.0\n",
            "1    1149      2716     4.0\n",
            "2    4404      1616     2.0\n",
            "3    3953      1608     4.0\n",
            "4    3178      2826     3.0\n",
            "5    5321      1885     3.0\n",
            "6    3532       457     4.0\n",
            "7     391      1303     5.0\n",
            "8    4571         1     5.0\n",
            "9    5614       413     4.0\n",
            "10   4774      3158     3.0\n",
            "11   4311       608     2.0\n",
            "12     48      2078     4.0\n",
            "13   5023      1288     5.0\n",
            "14   1497      2023     2.0\n",
            "15    216      3168     5.0\n",
            "16   3778       711     2.0\n",
            "17   5575       765     4.0\n",
            "18   3300       316     3.0\n",
            "19   1758      2470     2.0\n"
          ]
        }
      ]
    },
    {
      "cell_type": "code",
      "metadata": {
        "colab": {
          "base_uri": "https://localhost:8080/"
        },
        "id": "oPqEyQRFp6kr",
        "outputId": "9e1c2393-265e-4f01-f34d-eb23ca6f7560"
      },
      "source": [
        "#Comparing the predicted and real value of the ratings for the sampled test dataset\n",
        "for uid,pid,r in sample_test_set:\n",
        "    pred_start_time=datetime.datetime.now()\n",
        "    prediction = algorithm.predict(uid=uid, iid=pid,r_ui =None)\n",
        "    pred_end_time=datetime.datetime.now()\n",
        "    top_1=[iid for (iid, _) in top_1_recos[uid]]\n",
        "    top_5=[iid for (iid, _) in top_5_recos[uid]]\n",
        "    top_1_acc=False\n",
        "    top_5_acc=False\n",
        "    if pid in top_1:\n",
        "        top_1_acc=True\n",
        "    if pid in top_5:\n",
        "        top_5_acc=True\n",
        "    \n",
        "    print(\"userId: \",uid, \"movieId \", pid)\n",
        "    print(\"Predicted rating \", prediction.est, \" Real rating\", r)\n",
        "    print(\"Prediction time \", (pred_end_time - pred_start_time).total_seconds() , \"ms\")\n",
        "    print(\"Best movie recommendation : \", top_1)\n",
        "    print(\"Top-5 movie recommendations : \",top_5)\n",
        "    print(\"\\n\")"
      ],
      "execution_count": 37,
      "outputs": [
        {
          "output_type": "stream",
          "name": "stdout",
          "text": [
            "userId:  529 movieId  1610\n",
            "Predicted rating  4.41516573013273  Real rating 5.0\n",
            "Prediction time  0.00025 ms\n",
            "Best movie recommendation :  ['969']\n",
            "Top-5 movie recommendations :  ['969', '919', '904', '908', '1193']\n",
            "\n",
            "\n",
            "userId:  1149 movieId  2716\n",
            "Predicted rating  3.72151319038641  Real rating 4.0\n",
            "Prediction time  7.8e-05 ms\n",
            "Best movie recommendation :  ['2858']\n",
            "Top-5 movie recommendations :  ['2858', '2686', '260', '745', '1104']\n",
            "\n",
            "\n",
            "userId:  4404 movieId  1616\n",
            "Predicted rating  1.9357788453277758  Real rating 2.0\n",
            "Prediction time  4.5e-05 ms\n",
            "Best movie recommendation :  ['296']\n",
            "Top-5 movie recommendations :  ['296', '3160', '778', '47', '1923']\n",
            "\n",
            "\n",
            "userId:  3953 movieId  1608\n",
            "Predicted rating  3.5566175451968847  Real rating 4.0\n",
            "Prediction time  1.8e-05 ms\n",
            "Best movie recommendation :  ['1199']\n",
            "Top-5 movie recommendations :  ['1199', '2395', '1080', '3000', '1965']\n",
            "\n",
            "\n",
            "userId:  3178 movieId  2826\n",
            "Predicted rating  2.678294817322917  Real rating 3.0\n",
            "Prediction time  1.7e-05 ms\n",
            "Best movie recommendation :  ['750']\n",
            "Top-5 movie recommendations :  ['750', '1221', '1293', '2918', '1136']\n",
            "\n",
            "\n",
            "userId:  5321 movieId  1885\n",
            "Predicted rating  3.047663769649128  Real rating 3.0\n",
            "Prediction time  1.6e-05 ms\n",
            "Best movie recommendation :  ['858']\n",
            "Top-5 movie recommendations :  ['858', '296', '1230', '555', '1247']\n",
            "\n",
            "\n",
            "userId:  3532 movieId  457\n",
            "Predicted rating  4.400714216828153  Real rating 4.0\n",
            "Prediction time  2.4e-05 ms\n",
            "Best movie recommendation :  ['356']\n",
            "Top-5 movie recommendations :  ['356', '50', '593', '457', '1']\n",
            "\n",
            "\n",
            "userId:  391 movieId  1303\n",
            "Predicted rating  4.459196807438864  Real rating 5.0\n",
            "Prediction time  2e-05 ms\n",
            "Best movie recommendation :  ['1617']\n",
            "Top-5 movie recommendations :  ['1617', '1303', '933', '3334', '930']\n",
            "\n",
            "\n",
            "userId:  4571 movieId  1\n",
            "Predicted rating  4.5826399480886915  Real rating 5.0\n",
            "Prediction time  1.5e-05 ms\n",
            "Best movie recommendation :  ['587']\n",
            "Top-5 movie recommendations :  ['587', '1', '364', '3100', '733']\n",
            "\n",
            "\n",
            "userId:  5614 movieId  413\n",
            "Predicted rating  3.3442001473569736  Real rating 4.0\n",
            "Prediction time  1.5e-05 ms\n",
            "Best movie recommendation :  ['32']\n",
            "Top-5 movie recommendations :  ['32', '1193', '858', '1288', '1256']\n",
            "\n",
            "\n",
            "userId:  4774 movieId  3158\n",
            "Predicted rating  4.097489791405885  Real rating 3.0\n",
            "Prediction time  1.6e-05 ms\n",
            "Best movie recommendation :  ['1221']\n",
            "Top-5 movie recommendations :  ['1221', '858', '318', '541', '924']\n",
            "\n",
            "\n",
            "userId:  4311 movieId  608\n",
            "Predicted rating  2.944900156308919  Real rating 2.0\n",
            "Prediction time  2.7e-05 ms\n",
            "Best movie recommendation :  ['3341']\n",
            "Top-5 movie recommendations :  ['3341', '3504', '3200', '3363', '3088']\n",
            "\n",
            "\n",
            "userId:  48 movieId  2078\n",
            "Predicted rating  3.4789888541672247  Real rating 4.0\n",
            "Prediction time  1.6e-05 ms\n",
            "Best movie recommendation :  ['1198']\n",
            "Top-5 movie recommendations :  ['1198', '919', '1197', '2571', '50']\n",
            "\n",
            "\n",
            "userId:  5023 movieId  1288\n",
            "Predicted rating  4.165352418282712  Real rating 5.0\n",
            "Prediction time  1.8e-05 ms\n",
            "Best movie recommendation :  ['2762']\n",
            "Top-5 movie recommendations :  ['2762', '1084', '899', '914', '1288']\n",
            "\n",
            "\n",
            "userId:  1497 movieId  2023\n",
            "Predicted rating  4.157327114817746  Real rating 2.0\n",
            "Prediction time  1.5e-05 ms\n",
            "Best movie recommendation :  ['2028']\n",
            "Top-5 movie recommendations :  ['2028', '1222', '1242', '1196', '2194']\n",
            "\n",
            "\n",
            "userId:  216 movieId  3168\n",
            "Predicted rating  3.544092846541787  Real rating 5.0\n",
            "Prediction time  1.4e-05 ms\n",
            "Best movie recommendation :  ['2023']\n",
            "Top-5 movie recommendations :  ['2023', '2028', '1258', '1704', '1266']\n",
            "\n",
            "\n",
            "userId:  3778 movieId  711\n",
            "Predicted rating  2.2286801047533227  Real rating 2.0\n",
            "Prediction time  2.2e-05 ms\n",
            "Best movie recommendation :  ['356']\n",
            "Top-5 movie recommendations :  ['356', '1923', '1101', '858', '246']\n",
            "\n",
            "\n",
            "userId:  5575 movieId  765\n",
            "Predicted rating  2.4593495327367054  Real rating 4.0\n",
            "Prediction time  1.5e-05 ms\n",
            "Best movie recommendation :  ['260']\n",
            "Top-5 movie recommendations :  ['260', '2918', '3114', '1234', '1220']\n",
            "\n",
            "\n",
            "userId:  3300 movieId  316\n",
            "Predicted rating  3.593202114426098  Real rating 3.0\n",
            "Prediction time  1.6e-05 ms\n",
            "Best movie recommendation :  ['1387']\n",
            "Top-5 movie recommendations :  ['1387', '858', '1221', '50', '1244']\n",
            "\n",
            "\n",
            "userId:  1758 movieId  2470\n",
            "Predicted rating  3.132236747439156  Real rating 2.0\n",
            "Prediction time  1.5e-05 ms\n",
            "Best movie recommendation :  ['1361']\n",
            "Top-5 movie recommendations :  ['1361', '3683', '296', '608', '858']\n",
            "\n",
            "\n"
          ]
        }
      ]
    },
    {
      "cell_type": "code",
      "metadata": {
        "id": "dm9sKkBIHUmf"
      },
      "source": [
        "#Calculating the best and worst recommendations made by the model.\n",
        "df = pd.DataFrame(predictions, columns=['uid', 'iid', 'rui', 'est','details'])\n",
        "\n",
        "best_predictions = df.sort_values(by='rui')[:10]\n",
        "worst_predictions = df.sort_values(by='rui')[-10:]"
      ],
      "execution_count": 34,
      "outputs": []
    },
    {
      "cell_type": "code",
      "metadata": {
        "colab": {
          "base_uri": "https://localhost:8080/"
        },
        "id": "Ljl9KrMQvV_5",
        "outputId": "20486ded-0ecc-4e24-8d6d-1599d1178e7a"
      },
      "source": [
        "print(best_predictions)"
      ],
      "execution_count": 35,
      "outputs": [
        {
          "output_type": "stream",
          "name": "stdout",
          "text": [
            "         uid   iid  rui       est                    details\n",
            "180727   770   473  1.0  2.179982  {'was_impossible': False}\n",
            "53037   5702  3181  1.0  3.862581  {'was_impossible': False}\n",
            "122582  1383  3715  1.0  2.141806  {'was_impossible': False}\n",
            "178510  3432  2746  1.0  3.312231  {'was_impossible': False}\n",
            "222097  3069    66  1.0  1.333355  {'was_impossible': False}\n",
            "122566  4609   333  1.0  2.793808  {'was_impossible': False}\n",
            "122561  3683  2657  1.0  2.574710  {'was_impossible': False}\n",
            "178502  4186  3564  1.0  1.092677  {'was_impossible': False}\n",
            "237959  5312  1814  1.0  4.079889  {'was_impossible': False}\n",
            "246288  3001   849  1.0  3.060623  {'was_impossible': False}\n"
          ]
        }
      ]
    },
    {
      "cell_type": "code",
      "metadata": {
        "colab": {
          "base_uri": "https://localhost:8080/"
        },
        "id": "VQueDaIXvaWk",
        "outputId": "531c53a9-4f94-4be2-dbfe-a7828baac6b1"
      },
      "source": [
        "print(worst_predictions)"
      ],
      "execution_count": 36,
      "outputs": [
        {
          "output_type": "stream",
          "name": "stdout",
          "text": [
            "         uid   iid  rui       est                    details\n",
            "135192  1511  2208  5.0  4.027008  {'was_impossible': False}\n",
            "135191  3685  1732  5.0  4.926454  {'was_impossible': False}\n",
            "135186   505  2788  5.0  4.642483  {'was_impossible': False}\n",
            "135185  1294   232  5.0  4.313939  {'was_impossible': False}\n",
            "135180  4139  1885  5.0  4.177612  {'was_impossible': False}\n",
            "135178  1626   247  5.0  4.069065  {'was_impossible': False}\n",
            "135175  5734   953  5.0  4.509390  {'was_impossible': False}\n",
            "135170   624  2686  5.0  3.566998  {'was_impossible': False}\n",
            "135166  4603  2396  5.0  3.864427  {'was_impossible': False}\n",
            "125026  5352  1028  5.0  3.761438  {'was_impossible': False}\n"
          ]
        }
      ]
    },
    {
      "cell_type": "markdown",
      "metadata": {
        "id": "_cwOtqM0xo_X"
      },
      "source": [
        "Repeating the process for SVD with n_factors = 50"
      ]
    },
    {
      "cell_type": "code",
      "metadata": {
        "colab": {
          "base_uri": "https://localhost:8080/"
        },
        "id": "5Fw1e7ovvcCC",
        "outputId": "42f50033-4ff4-488e-bfdb-d1fb62c0906a"
      },
      "source": [
        "algorithm_2 = SVD(n_factors=50)\n",
        "t0=datetime.datetime.now()\n",
        "resultant_matrix= algorithm_2.fit(train)\n",
        "t1=datetime.datetime.now()\n",
        "print(\"Training time \",  (t1 - t0).total_seconds())\n",
        "\n",
        "predictions_2 = algorithm_2.test(test)\n",
        "print(\"\\n\")\n",
        "accuracy.rmse(predictions_2)"
      ],
      "execution_count": 39,
      "outputs": [
        {
          "output_type": "stream",
          "name": "stdout",
          "text": [
            "Training time  29.962333\n",
            "\n",
            "\n",
            "RMSE: 0.8735\n"
          ]
        },
        {
          "output_type": "execute_result",
          "data": {
            "text/plain": [
              "0.8734690268483478"
            ]
          },
          "metadata": {},
          "execution_count": 39
        }
      ]
    },
    {
      "cell_type": "code",
      "metadata": {
        "id": "tUNzAz4mx6qS"
      },
      "source": [
        "top_1_recos = get_top_n(predictions_2, n=1)\n",
        "top_5_recos = get_top_n(predictions_2, n=5)"
      ],
      "execution_count": 40,
      "outputs": []
    },
    {
      "cell_type": "code",
      "metadata": {
        "colab": {
          "base_uri": "https://localhost:8080/"
        },
        "id": "uLrRyWNhy_ep",
        "outputId": "e9d64c16-6be5-4ee4-8d16-3927ffad6ad5"
      },
      "source": [
        "for uid,pid,r in sample_test_set:\n",
        "    pred_start_time=datetime.datetime.now()\n",
        "    prediction = algorithm_2.predict(uid=uid, iid=pid,r_ui =None)\n",
        "    pred_end_time=datetime.datetime.now()\n",
        "    top_1=[iid for (iid, _) in top_1_recos[uid]]\n",
        "    top_5=[iid for (iid, _) in top_5_recos[uid]]\n",
        "    top_1_acc=False\n",
        "    top_5_acc=False\n",
        "    if pid in top_1:\n",
        "        top_1_acc=True\n",
        "    if pid in top_5:\n",
        "        top_5_acc=True\n",
        "    \n",
        "    print(\"userId: \",uid, \"movieId \", pid)\n",
        "    print(\"Predicted rating \", prediction.est, \" Real rating\", r)\n",
        "    print(\"Prediction time \", (pred_end_time - pred_start_time).total_seconds() , \"ms\")\n",
        "    print(\"Best movie recommendation : \", top_1)\n",
        "    print(\"Top-5 movie recommendations : \",top_5)\n",
        "    print(\"\\n\")"
      ],
      "execution_count": 41,
      "outputs": [
        {
          "output_type": "stream",
          "name": "stdout",
          "text": [
            "userId:  529 movieId  1610\n",
            "Predicted rating  4.2699429210565105  Real rating 5.0\n",
            "Prediction time  9.1e-05 ms\n",
            "Best movie recommendation :  ['750']\n",
            "Top-5 movie recommendations :  ['750', '1248', '1193', '924', '1225']\n",
            "\n",
            "\n",
            "userId:  1149 movieId  2716\n",
            "Predicted rating  3.8130793888024583  Real rating 4.0\n",
            "Prediction time  5.2e-05 ms\n",
            "Best movie recommendation :  ['260']\n",
            "Top-5 movie recommendations :  ['260', '2858', '1104', '3160', '745']\n",
            "\n",
            "\n",
            "userId:  4404 movieId  1616\n",
            "Predicted rating  2.1598058381433223  Real rating 2.0\n",
            "Prediction time  3.3e-05 ms\n",
            "Best movie recommendation :  ['296']\n",
            "Top-5 movie recommendations :  ['296', '2028', '1517', '2396', '1923']\n",
            "\n",
            "\n",
            "userId:  3953 movieId  1608\n",
            "Predicted rating  3.177152985666586  Real rating 4.0\n",
            "Prediction time  3.2e-05 ms\n",
            "Best movie recommendation :  ['1199']\n",
            "Top-5 movie recommendations :  ['1199', '1197', '1080', '1206', '2395']\n",
            "\n",
            "\n",
            "userId:  3178 movieId  2826\n",
            "Predicted rating  2.1656388102401394  Real rating 3.0\n",
            "Prediction time  9.5e-05 ms\n",
            "Best movie recommendation :  ['750']\n",
            "Top-5 movie recommendations :  ['750', '1217', '2064', '1293', '1221']\n",
            "\n",
            "\n",
            "userId:  5321 movieId  1885\n",
            "Predicted rating  3.3018039602917364  Real rating 3.0\n",
            "Prediction time  6e-05 ms\n",
            "Best movie recommendation :  ['858']\n",
            "Top-5 movie recommendations :  ['858', '1247', '720', '1617', '2710']\n",
            "\n",
            "\n",
            "userId:  3532 movieId  457\n",
            "Predicted rating  4.568482819441881  Real rating 4.0\n",
            "Prediction time  7e-05 ms\n",
            "Best movie recommendation :  ['50']\n",
            "Top-5 movie recommendations :  ['50', '356', '1', '593', '457']\n",
            "\n",
            "\n",
            "userId:  391 movieId  1303\n",
            "Predicted rating  4.120906016726884  Real rating 5.0\n",
            "Prediction time  0.00017 ms\n",
            "Best movie recommendation :  ['800']\n",
            "Top-5 movie recommendations :  ['800', '3334', '1617', '933', '930']\n",
            "\n",
            "\n",
            "userId:  4571 movieId  1\n",
            "Predicted rating  4.590330157077665  Real rating 5.0\n",
            "Prediction time  5.5e-05 ms\n",
            "Best movie recommendation :  ['1']\n",
            "Top-5 movie recommendations :  ['1', '364', '588', '3751', '1358']\n",
            "\n",
            "\n",
            "userId:  5614 movieId  413\n",
            "Predicted rating  3.302737390596537  Real rating 4.0\n",
            "Prediction time  3.4e-05 ms\n",
            "Best movie recommendation :  ['296']\n",
            "Top-5 movie recommendations :  ['296', '111', '858', '1288', '1127']\n",
            "\n",
            "\n",
            "userId:  4774 movieId  3158\n",
            "Predicted rating  4.124629636003225  Real rating 3.0\n",
            "Prediction time  6.2e-05 ms\n",
            "Best movie recommendation :  ['1221']\n",
            "Top-5 movie recommendations :  ['1221', '858', '318', '593', '1198']\n",
            "\n",
            "\n",
            "userId:  4311 movieId  608\n",
            "Predicted rating  3.1511613227965567  Real rating 2.0\n",
            "Prediction time  6.4e-05 ms\n",
            "Best movie recommendation :  ['260']\n",
            "Top-5 movie recommendations :  ['260', '3363', '3578', '3088', '2871']\n",
            "\n",
            "\n",
            "userId:  48 movieId  2078\n",
            "Predicted rating  3.3212594164325115  Real rating 4.0\n",
            "Prediction time  3.7e-05 ms\n",
            "Best movie recommendation :  ['2571']\n",
            "Top-5 movie recommendations :  ['2571', '1198', '1262', '50', '3147']\n",
            "\n",
            "\n",
            "userId:  5023 movieId  1288\n",
            "Predicted rating  3.944169230722665  Real rating 5.0\n",
            "Prediction time  6.8e-05 ms\n",
            "Best movie recommendation :  ['899']\n",
            "Top-5 movie recommendations :  ['899', '1250', '1084', '914', '2762']\n",
            "\n",
            "\n",
            "userId:  1497 movieId  2023\n",
            "Predicted rating  3.8576889573319906  Real rating 2.0\n",
            "Prediction time  0.000147 ms\n",
            "Best movie recommendation :  ['2028']\n",
            "Top-5 movie recommendations :  ['2028', '1197', '3178', '1222', '1242']\n",
            "\n",
            "\n",
            "userId:  216 movieId  3168\n",
            "Predicted rating  3.659143734230822  Real rating 5.0\n",
            "Prediction time  0.001119 ms\n",
            "Best movie recommendation :  ['2762']\n",
            "Top-5 movie recommendations :  ['2762', '1704', '2324', '1204', '1172']\n",
            "\n",
            "\n",
            "userId:  3778 movieId  711\n",
            "Predicted rating  2.038692196231646  Real rating 2.0\n",
            "Prediction time  5.6e-05 ms\n",
            "Best movie recommendation :  ['858']\n",
            "Top-5 movie recommendations :  ['858', '1221', '1923', '2762', '1304']\n",
            "\n",
            "\n",
            "userId:  5575 movieId  765\n",
            "Predicted rating  2.4141166590954546  Real rating 4.0\n",
            "Prediction time  3.2e-05 ms\n",
            "Best movie recommendation :  ['260']\n",
            "Top-5 movie recommendations :  ['260', '1234', '2396', '1288', '1304']\n",
            "\n",
            "\n",
            "userId:  3300 movieId  316\n",
            "Predicted rating  2.9794768593873937  Real rating 3.0\n",
            "Prediction time  3e-05 ms\n",
            "Best movie recommendation :  ['858']\n",
            "Top-5 movie recommendations :  ['858', '50', '1945', '1299', '541']\n",
            "\n",
            "\n",
            "userId:  1758 movieId  2470\n",
            "Predicted rating  3.515152090770107  Real rating 2.0\n",
            "Prediction time  3e-05 ms\n",
            "Best movie recommendation :  ['1719']\n",
            "Top-5 movie recommendations :  ['1719', '1361', '1104', '858', '1243']\n",
            "\n",
            "\n"
          ]
        }
      ]
    },
    {
      "cell_type": "markdown",
      "metadata": {
        "id": "QrIpbP0zz1l-"
      },
      "source": [
        "Model Performance Comparison"
      ]
    },
    {
      "cell_type": "code",
      "metadata": {
        "id": "LaRFi2bcz4RF"
      },
      "source": [
        "def compare(algorithm):\n",
        "  t0=datetime.datetime.now()\n",
        "  output = algorithm.test(test)\n",
        "  t1=datetime.datetime.now()\n",
        "  print(\"Time taken to predict  \",  (t1 - t0).total_seconds(), \" ms\")\n",
        "  accuracy.rmse(output)"
      ],
      "execution_count": 46,
      "outputs": []
    },
    {
      "cell_type": "code",
      "metadata": {
        "colab": {
          "base_uri": "https://localhost:8080/"
        },
        "id": "BYDzisD20LdO",
        "outputId": "a53a6c9f-be51-464a-acb2-add3c773ce37"
      },
      "source": [
        "compare(algorithm)"
      ],
      "execution_count": 47,
      "outputs": [
        {
          "output_type": "stream",
          "name": "stdout",
          "text": [
            "Time taken to predict   3.191227  ms\n",
            "RMSE: 0.8783\n"
          ]
        }
      ]
    },
    {
      "cell_type": "code",
      "metadata": {
        "colab": {
          "base_uri": "https://localhost:8080/"
        },
        "id": "PAfEFyDx0NZh",
        "outputId": "2823234c-745e-4a9b-aaa6-687b52eccffb"
      },
      "source": [
        "compare(algorithm_2)"
      ],
      "execution_count": 48,
      "outputs": [
        {
          "output_type": "stream",
          "name": "stdout",
          "text": [
            "Time taken to predict   3.013807  ms\n",
            "RMSE: 0.7762\n"
          ]
        }
      ]
    }
  ]
}